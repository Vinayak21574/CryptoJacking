{
 "cells": [
  {
   "cell_type": "code",
   "execution_count": 33,
   "metadata": {},
   "outputs": [],
   "source": [
    "import pandas as pd"
   ]
  },
  {
   "cell_type": "code",
   "execution_count": 45,
   "metadata": {},
   "outputs": [],
   "source": [
    "df=pd.read_csv(\"MineHunter/java_project/RESULTS_zcash_FIX_60.csv\")"
   ]
  },
  {
   "cell_type": "code",
   "execution_count": 46,
   "metadata": {},
   "outputs": [
    {
     "data": {
      "text/plain": [
       "(80000, 4)"
      ]
     },
     "execution_count": 46,
     "metadata": {},
     "output_type": "execute_result"
    }
   ],
   "source": [
    "df.shape"
   ]
  },
  {
   "cell_type": "code",
   "execution_count": 47,
   "metadata": {},
   "outputs": [],
   "source": [
    "temp=df[df[\"rank\"]<=100]"
   ]
  },
  {
   "cell_type": "code",
   "execution_count": 48,
   "metadata": {},
   "outputs": [
    {
     "data": {
      "text/html": [
       "<div>\n",
       "<style scoped>\n",
       "    .dataframe tbody tr th:only-of-type {\n",
       "        vertical-align: middle;\n",
       "    }\n",
       "\n",
       "    .dataframe tbody tr th {\n",
       "        vertical-align: top;\n",
       "    }\n",
       "\n",
       "    .dataframe thead th {\n",
       "        text-align: right;\n",
       "    }\n",
       "</style>\n",
       "<table border=\"1\" class=\"dataframe\">\n",
       "  <thead>\n",
       "    <tr style=\"text-align: right;\">\n",
       "      <th></th>\n",
       "      <th>pos</th>\n",
       "      <th>rank</th>\n",
       "      <th>flowName</th>\n",
       "      <th>sim</th>\n",
       "    </tr>\n",
       "  </thead>\n",
       "  <tbody>\n",
       "    <tr>\n",
       "      <th>0</th>\n",
       "      <td>25855</td>\n",
       "      <td>1</td>\n",
       "      <td>54.145.30.137_192.168.224.88</td>\n",
       "      <td>0.815569</td>\n",
       "    </tr>\n",
       "    <tr>\n",
       "      <th>1</th>\n",
       "      <td>25855</td>\n",
       "      <td>2</td>\n",
       "      <td>192.168.224.88_213.199.38.97</td>\n",
       "      <td>0.811843</td>\n",
       "    </tr>\n",
       "    <tr>\n",
       "      <th>2</th>\n",
       "      <td>25855</td>\n",
       "      <td>3</td>\n",
       "      <td>192.168.224.88_54.145.30.137</td>\n",
       "      <td>0.810104</td>\n",
       "    </tr>\n",
       "    <tr>\n",
       "      <th>3</th>\n",
       "      <td>25855</td>\n",
       "      <td>4</td>\n",
       "      <td>192.168.224.88_13.231.190.41</td>\n",
       "      <td>0.797504</td>\n",
       "    </tr>\n",
       "    <tr>\n",
       "      <th>4</th>\n",
       "      <td>25855</td>\n",
       "      <td>5</td>\n",
       "      <td>192.168.224.88_95.217.108.172</td>\n",
       "      <td>0.795927</td>\n",
       "    </tr>\n",
       "    <tr>\n",
       "      <th>...</th>\n",
       "      <td>...</td>\n",
       "      <td>...</td>\n",
       "      <td>...</td>\n",
       "      <td>...</td>\n",
       "    </tr>\n",
       "    <tr>\n",
       "      <th>70095</th>\n",
       "      <td>26205</td>\n",
       "      <td>96</td>\n",
       "      <td>192.168.54.121_192.168.2.228</td>\n",
       "      <td>0.515145</td>\n",
       "    </tr>\n",
       "    <tr>\n",
       "      <th>70096</th>\n",
       "      <td>26205</td>\n",
       "      <td>97</td>\n",
       "      <td>192.168.25.164_192.168.3.35</td>\n",
       "      <td>0.513460</td>\n",
       "    </tr>\n",
       "    <tr>\n",
       "      <th>70097</th>\n",
       "      <td>26205</td>\n",
       "      <td>98</td>\n",
       "      <td>192.168.140.144_192.168.3.94</td>\n",
       "      <td>0.513362</td>\n",
       "    </tr>\n",
       "    <tr>\n",
       "      <th>70098</th>\n",
       "      <td>26205</td>\n",
       "      <td>99</td>\n",
       "      <td>104.18.12.81_192.168.43.148</td>\n",
       "      <td>0.512380</td>\n",
       "    </tr>\n",
       "    <tr>\n",
       "      <th>70099</th>\n",
       "      <td>26205</td>\n",
       "      <td>100</td>\n",
       "      <td>192.168.3.90_192.168.51.77</td>\n",
       "      <td>0.511130</td>\n",
       "    </tr>\n",
       "  </tbody>\n",
       "</table>\n",
       "<p>800 rows × 4 columns</p>\n",
       "</div>"
      ],
      "text/plain": [
       "         pos  rank                       flowName       sim\n",
       "0      25855     1   54.145.30.137_192.168.224.88  0.815569\n",
       "1      25855     2   192.168.224.88_213.199.38.97  0.811843\n",
       "2      25855     3   192.168.224.88_54.145.30.137  0.810104\n",
       "3      25855     4   192.168.224.88_13.231.190.41  0.797504\n",
       "4      25855     5  192.168.224.88_95.217.108.172  0.795927\n",
       "...      ...   ...                            ...       ...\n",
       "70095  26205    96   192.168.54.121_192.168.2.228  0.515145\n",
       "70096  26205    97    192.168.25.164_192.168.3.35  0.513460\n",
       "70097  26205    98   192.168.140.144_192.168.3.94  0.513362\n",
       "70098  26205    99    104.18.12.81_192.168.43.148  0.512380\n",
       "70099  26205   100     192.168.3.90_192.168.51.77  0.511130\n",
       "\n",
       "[800 rows x 4 columns]"
      ]
     },
     "execution_count": 48,
     "metadata": {},
     "output_type": "execute_result"
    }
   ],
   "source": [
    "temp"
   ]
  },
  {
   "cell_type": "code",
   "execution_count": 49,
   "metadata": {},
   "outputs": [],
   "source": [
    "temp.to_csv(\"res_zcash.csv\")"
   ]
  },
  {
   "cell_type": "code",
   "execution_count": null,
   "metadata": {},
   "outputs": [],
   "source": []
  }
 ],
 "metadata": {
  "kernelspec": {
   "display_name": "Python 3",
   "language": "python",
   "name": "python3"
  },
  "language_info": {
   "codemirror_mode": {
    "name": "ipython",
    "version": 3
   },
   "file_extension": ".py",
   "mimetype": "text/x-python",
   "name": "python",
   "nbconvert_exporter": "python",
   "pygments_lexer": "ipython3",
   "version": "3.8.10"
  }
 },
 "nbformat": 4,
 "nbformat_minor": 2
}
